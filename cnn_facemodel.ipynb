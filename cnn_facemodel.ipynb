{
 "cells": [
  {
   "cell_type": "markdown",
   "metadata": {},
   "source": [
    "***Import Libraries***"
   ]
  },
  {
   "cell_type": "code",
   "execution_count": 1,
   "metadata": {},
   "outputs": [],
   "source": [
    "import torch\n",
    "import torch.nn as nn\n",
    "import torch.optim as optim\n",
    "import torchvision.transforms as transforms\n",
    "from torch.utils.data import Dataset, DataLoader\n",
    "import os\n",
    "from PIL import Image\n",
    "import torch.nn.functional as F"
   ]
  },
  {
   "cell_type": "markdown",
   "metadata": {},
   "source": [
    "***Define Custom Class For Image Processing of UTKFace DataSet***"
   ]
  },
  {
   "cell_type": "markdown",
   "metadata": {},
   "source": [
    "*Images are converted in GreyScale as Input will be Greyscale due to necessity of Greyscale images in Haar-cascade models which pass the input as Greyscale images to CNN*"
   ]
  },
  {
   "cell_type": "code",
   "execution_count": 6,
   "metadata": {},
   "outputs": [],
   "source": [
    "class UTKFaceDataset(Dataset):\n",
    "    def __init__(self, root_dir, transform=None):\n",
    "        self.root_dir = root_dir\n",
    "        self.transform = transform\n",
    "        self.images = []\n",
    "        self.ages = []\n",
    "\n",
    "        for filename in os.listdir(root_dir):\n",
    "            if filename.endswith('.jpg'):\n",
    "                age = int(filename.split('_')[0])  \n",
    "                self.images.append(os.path.join(root_dir, filename))\n",
    "                self.ages.append(age)\n",
    "\n",
    "    def __len__(self):\n",
    "        return len(self.images)\n",
    "\n",
    "    def __getitem__(self, idx):\n",
    "        img_path = self.images[idx]\n",
    "        image = Image.open(img_path).convert('L') \n",
    "        if self.transform:\n",
    "            image = self.transform(image)\n",
    "        age = self.ages[idx]\n",
    "        return image, age\n"
   ]
  },
  {
   "cell_type": "markdown",
   "metadata": {},
   "source": [
    "***Hyperparameters and Image Transforms for Data Augmentation***"
   ]
  },
  {
   "cell_type": "code",
   "execution_count": 4,
   "metadata": {},
   "outputs": [],
   "source": [
    "batch_size = 16\n",
    "learning_rate = 0.001\n",
    "num_epochs = 10\n",
    "validation_split = 0.2\n",
    "\n",
    "transform = transforms.Compose([\n",
    "    transforms.Resize((64,64)), \n",
    "    transforms.RandomRotation(10),  \n",
    "    transforms.RandomHorizontalFlip(), \n",
    "    transforms.ColorJitter(brightness=0.2, contrast=0.2),  \n",
    "    transforms.ToTensor(),\n",
    "    transforms.Normalize(mean=[0.5], std=[0.5])\n",
    "])"
   ]
  },
  {
   "cell_type": "markdown",
   "metadata": {},
   "source": [
    "***Splitting of Train and Validation Data***"
   ]
  },
  {
   "cell_type": "code",
   "execution_count": null,
   "metadata": {},
   "outputs": [],
   "source": [
    "\n",
    "dataset = UTKFaceDataset(root_dir='D:/ml_projects/haar_caascade/dataset_utk/UTKFace/crop_part1', transform=transform)\n",
    "\n",
    "train_size = int((1 - validation_split) * len(dataset))\n",
    "val_size = len(dataset) - train_size\n",
    "train_dataset, val_dataset = torch.utils.data.random_split(dataset, [train_size, val_size])\n",
    "\n",
    "train_loader = DataLoader(train_dataset, batch_size=batch_size, shuffle=True)\n",
    "val_loader = DataLoader(val_dataset, batch_size=batch_size, shuffle=False)\n"
   ]
  },
  {
   "cell_type": "markdown",
   "metadata": {},
   "source": [
    "***Defining Custom CNN age Prediction Regression Model***"
   ]
  },
  {
   "cell_type": "markdown",
   "metadata": {},
   "source": [
    "*CNN has only 1 channel since it is being trained on Greyscale images*"
   ]
  },
  {
   "cell_type": "code",
   "execution_count": 3,
   "metadata": {},
   "outputs": [],
   "source": [
    "\n",
    "class AgePredictorCNN(nn.Module):\n",
    "    def __init__(self):\n",
    "        super(AgePredictorCNN, self).__init__()\n",
    "        self.conv1 = nn.Conv2d(1, 16, kernel_size=3, padding=1)\n",
    "        self.pool = nn.MaxPool2d(kernel_size=2, stride=2)\n",
    "        self.dropout1 = nn.Dropout(0.25) \n",
    "\n",
    "        self.conv2 = nn.Conv2d(16, 32, kernel_size=3, padding=1)\n",
    "        self.dropout2 = nn.Dropout(0.25)  \n",
    "\n",
    "        self.conv3 = nn.Conv2d(32, 64, kernel_size=3, padding=1)\n",
    "        self.dropout3 = nn.Dropout(0.25) \n",
    "\n",
    "        self.fc1 = nn.Linear(64 * 8 * 8, 128)  \n",
    "        self.fc_dropout = nn.Dropout(0.5) \n",
    "        self.fc2 = nn.Linear(128, 1)\n",
    "\n",
    "    def forward(self, x):\n",
    "        x = self.pool(F.relu(self.conv1(x)))\n",
    "        x = self.dropout1(x)\n",
    "\n",
    "        x = self.pool(F.relu(self.conv2(x)))\n",
    "        x = self.dropout2(x)\n",
    "\n",
    "        x = self.pool(F.relu(self.conv3(x)))\n",
    "        x = self.dropout3(x)\n",
    "\n",
    "        x = x.view(-1, 64 * 8 * 8) \n",
    "        x = F.relu(self.fc1(x))\n",
    "        x = self.fc_dropout(x)\n",
    "        x = self.fc2(x)\n",
    "        return x\n"
   ]
  },
  {
   "cell_type": "markdown",
   "metadata": {},
   "source": [
    "***Initializing Model,Criterion,Optimizer and Checking for GPU availability  and Moving model to appropriate device***"
   ]
  },
  {
   "cell_type": "code",
   "execution_count": null,
   "metadata": {},
   "outputs": [
    {
     "data": {
      "text/plain": [
       "AgePredictorCNN(\n",
       "  (conv1): Conv2d(1, 16, kernel_size=(3, 3), stride=(1, 1), padding=(1, 1))\n",
       "  (pool): MaxPool2d(kernel_size=2, stride=2, padding=0, dilation=1, ceil_mode=False)\n",
       "  (dropout1): Dropout(p=0.25, inplace=False)\n",
       "  (conv2): Conv2d(16, 32, kernel_size=(3, 3), stride=(1, 1), padding=(1, 1))\n",
       "  (dropout2): Dropout(p=0.25, inplace=False)\n",
       "  (conv3): Conv2d(32, 64, kernel_size=(3, 3), stride=(1, 1), padding=(1, 1))\n",
       "  (dropout3): Dropout(p=0.25, inplace=False)\n",
       "  (fc1): Linear(in_features=4096, out_features=128, bias=True)\n",
       "  (fc_dropout): Dropout(p=0.5, inplace=False)\n",
       "  (fc2): Linear(in_features=128, out_features=1, bias=True)\n",
       ")"
      ]
     },
     "execution_count": 7,
     "metadata": {},
     "output_type": "execute_result"
    }
   ],
   "source": [
    "model = AgePredictorCNN()\n",
    "criterion = nn.MSELoss()\n",
    "optimizer = optim.Adam(model.parameters(), lr=learning_rate)\n",
    "device = torch.device(\"cuda\" if torch.cuda.is_available() else \"cpu\")\n",
    "model.to(device)"
   ]
  },
  {
   "cell_type": "markdown",
   "metadata": {},
   "source": [
    "***Defining Function for Training the model***"
   ]
  },
  {
   "cell_type": "code",
   "execution_count": null,
   "metadata": {},
   "outputs": [],
   "source": [
    "def train_model(model, train_loader, val_loader, criterion, optimizer, num_epochs):\n",
    "    for epoch in range(num_epochs):\n",
    "        model.train()\n",
    "        train_loss = 0\n",
    "        for images, ages in train_loader:\n",
    "            images, ages = images.to(device), ages.to(device)  \n",
    "            optimizer.zero_grad()\n",
    "            outputs = model(images)\n",
    "            loss = criterion(outputs.view(-1), ages.float()) \n",
    "            loss.backward()\n",
    "            optimizer.step()\n",
    "            train_loss += loss.item()\n",
    "\n",
    "        train_loss /= len(train_loader)\n",
    "\n",
    "        # Validation\n",
    "        model.eval()\n",
    "        val_loss = 0\n",
    "        with torch.no_grad():\n",
    "            for images, ages in val_loader:\n",
    "                images, ages = images.to(device), ages.to(device)  \n",
    "                outputs = model(images)\n",
    "                loss = criterion(outputs.view(-1), ages.float())  \n",
    "                val_loss += loss.item()\n",
    "\n",
    "        val_loss /= len(val_loader)\n",
    "\n",
    "        print(f'Epoch [{epoch+1}/{num_epochs}], Train Loss: {train_loss:.4f}, Val Loss: {val_loss:.4f}')\n"
   ]
  },
  {
   "cell_type": "markdown",
   "metadata": {},
   "source": [
    "***Training the model***"
   ]
  },
  {
   "cell_type": "code",
   "execution_count": 63,
   "metadata": {},
   "outputs": [
    {
     "name": "stdout",
     "output_type": "stream",
     "text": [
      "Epoch [1/10], Train Loss: 582.8770, Val Loss: 509.5807\n",
      "Epoch [2/10], Train Loss: 429.9799, Val Loss: 378.7285\n",
      "Epoch [3/10], Train Loss: 359.4904, Val Loss: 330.0639\n",
      "Epoch [4/10], Train Loss: 316.3341, Val Loss: 299.0159\n",
      "Epoch [5/10], Train Loss: 295.0477, Val Loss: 282.4580\n",
      "Epoch [6/10], Train Loss: 281.0838, Val Loss: 272.1248\n",
      "Epoch [7/10], Train Loss: 267.2239, Val Loss: 323.4944\n",
      "Epoch [8/10], Train Loss: 249.0862, Val Loss: 335.7182\n",
      "Epoch [9/10], Train Loss: 236.5244, Val Loss: 252.6012\n",
      "Epoch [10/10], Train Loss: 228.5288, Val Loss: 163.3842\n"
     ]
    }
   ],
   "source": [
    "# Train the model\n",
    "train_model(model, train_loader, val_loader, criterion, optimizer, num_epochs)"
   ]
  },
  {
   "cell_type": "markdown",
   "metadata": {},
   "source": [
    "***Saving The model in a .pth file format for saving Progress***"
   ]
  },
  {
   "cell_type": "code",
   "execution_count": null,
   "metadata": {},
   "outputs": [],
   "source": [
    "torch.save(model.state_dict(), 'age_predictor_cnn_new.pth')"
   ]
  },
  {
   "cell_type": "code",
   "execution_count": 65,
   "metadata": {},
   "outputs": [
    {
     "name": "stdout",
     "output_type": "stream",
     "text": [
      "Epoch [1/10], Train Loss: 223.7372, Val Loss: 225.9838\n",
      "Epoch [2/10], Train Loss: 211.4844, Val Loss: 201.6410\n",
      "Epoch [3/10], Train Loss: 211.4483, Val Loss: 179.4048\n",
      "Epoch [4/10], Train Loss: 200.2935, Val Loss: 176.6849\n",
      "Epoch [5/10], Train Loss: 189.1480, Val Loss: 183.7973\n",
      "Epoch [6/10], Train Loss: 194.2120, Val Loss: 228.4328\n",
      "Epoch [7/10], Train Loss: 189.8043, Val Loss: 166.5058\n",
      "Epoch [8/10], Train Loss: 184.4307, Val Loss: 296.9142\n",
      "Epoch [9/10], Train Loss: 181.0918, Val Loss: 132.8376\n",
      "Epoch [10/10], Train Loss: 181.2243, Val Loss: 204.9765\n"
     ]
    }
   ],
   "source": [
    "# Train the model\n",
    "train_model(model, train_loader, val_loader, criterion, optimizer, num_epochs)"
   ]
  },
  {
   "cell_type": "code",
   "execution_count": null,
   "metadata": {},
   "outputs": [],
   "source": [
    "torch.save(model.state_dict(), 'age_predictor_cnn_new.pth')"
   ]
  },
  {
   "cell_type": "code",
   "execution_count": 67,
   "metadata": {},
   "outputs": [
    {
     "name": "stdout",
     "output_type": "stream",
     "text": [
      "Epoch [1/10], Train Loss: 181.1661, Val Loss: 174.5525\n",
      "Epoch [2/10], Train Loss: 173.5073, Val Loss: 182.8689\n",
      "Epoch [3/10], Train Loss: 165.8914, Val Loss: 140.4291\n",
      "Epoch [4/10], Train Loss: 172.1444, Val Loss: 210.2080\n",
      "Epoch [5/10], Train Loss: 165.0261, Val Loss: 123.7391\n",
      "Epoch [6/10], Train Loss: 163.7672, Val Loss: 117.7742\n",
      "Epoch [7/10], Train Loss: 162.1360, Val Loss: 122.9703\n",
      "Epoch [8/10], Train Loss: 165.2031, Val Loss: 128.4475\n",
      "Epoch [9/10], Train Loss: 160.7120, Val Loss: 143.6137\n",
      "Epoch [10/10], Train Loss: 159.3010, Val Loss: 130.3679\n"
     ]
    }
   ],
   "source": [
    "# Train the model\n",
    "train_model(model, train_loader, val_loader, criterion, optimizer, num_epochs)"
   ]
  },
  {
   "cell_type": "code",
   "execution_count": null,
   "metadata": {},
   "outputs": [],
   "source": [
    "torch.save(model.state_dict(), 'age_predictor_cnn_new.pth')"
   ]
  },
  {
   "cell_type": "code",
   "execution_count": 69,
   "metadata": {},
   "outputs": [
    {
     "name": "stdout",
     "output_type": "stream",
     "text": [
      "Epoch [1/10], Train Loss: 161.0752, Val Loss: 119.9386\n",
      "Epoch [2/10], Train Loss: 154.8778, Val Loss: 136.1296\n",
      "Epoch [3/10], Train Loss: 153.0253, Val Loss: 129.5003\n",
      "Epoch [4/10], Train Loss: 151.7009, Val Loss: 123.7372\n",
      "Epoch [5/10], Train Loss: 148.7422, Val Loss: 164.9048\n",
      "Epoch [6/10], Train Loss: 146.1098, Val Loss: 152.6805\n",
      "Epoch [7/10], Train Loss: 150.6746, Val Loss: 108.3165\n",
      "Epoch [8/10], Train Loss: 149.4091, Val Loss: 105.5001\n",
      "Epoch [9/10], Train Loss: 149.8694, Val Loss: 147.7086\n",
      "Epoch [10/10], Train Loss: 152.2083, Val Loss: 110.0369\n"
     ]
    }
   ],
   "source": [
    "# Train the model\n",
    "train_model(model, train_loader, val_loader, criterion, optimizer, num_epochs)"
   ]
  },
  {
   "cell_type": "code",
   "execution_count": null,
   "metadata": {},
   "outputs": [],
   "source": [
    "torch.save(model.state_dict(), 'age_predictor_cnn_new.pth')"
   ]
  },
  {
   "cell_type": "code",
   "execution_count": 11,
   "metadata": {},
   "outputs": [
    {
     "name": "stdout",
     "output_type": "stream",
     "text": [
      "Epoch [1/10], Train Loss: 150.7068, Val Loss: 110.6306\n",
      "Epoch [2/10], Train Loss: 143.4699, Val Loss: 109.2627\n",
      "Epoch [3/10], Train Loss: 144.8201, Val Loss: 134.2690\n",
      "Epoch [4/10], Train Loss: 146.1997, Val Loss: 193.7972\n",
      "Epoch [5/10], Train Loss: 149.4427, Val Loss: 106.4570\n",
      "Epoch [6/10], Train Loss: 148.0885, Val Loss: 115.2418\n",
      "Epoch [7/10], Train Loss: 146.0904, Val Loss: 100.9754\n",
      "Epoch [8/10], Train Loss: 141.9137, Val Loss: 88.2416\n",
      "Epoch [9/10], Train Loss: 142.7156, Val Loss: 125.9250\n",
      "Epoch [10/10], Train Loss: 143.1534, Val Loss: 117.5512\n"
     ]
    }
   ],
   "source": [
    "# Train the model\n",
    "train_model(model, train_loader, val_loader, criterion, optimizer, num_epochs)"
   ]
  },
  {
   "cell_type": "code",
   "execution_count": 12,
   "metadata": {},
   "outputs": [
    {
     "name": "stdout",
     "output_type": "stream",
     "text": [
      "Epoch [1/10], Train Loss: 141.9843, Val Loss: 109.9512\n",
      "Epoch [2/10], Train Loss: 139.4953, Val Loss: 91.4800\n",
      "Epoch [3/10], Train Loss: 140.6866, Val Loss: 100.9278\n",
      "Epoch [4/10], Train Loss: 139.1672, Val Loss: 102.2240\n",
      "Epoch [5/10], Train Loss: 136.4913, Val Loss: 102.0239\n",
      "Epoch [6/10], Train Loss: 136.8428, Val Loss: 108.4109\n",
      "Epoch [7/10], Train Loss: 137.4172, Val Loss: 118.2040\n",
      "Epoch [8/10], Train Loss: 139.1528, Val Loss: 123.3913\n",
      "Epoch [9/10], Train Loss: 137.8516, Val Loss: 128.1867\n",
      "Epoch [10/10], Train Loss: 135.2767, Val Loss: 100.3364\n"
     ]
    }
   ],
   "source": [
    "# Train the model\n",
    "train_model(model, train_loader, val_loader, criterion, optimizer, num_epochs)"
   ]
  },
  {
   "cell_type": "code",
   "execution_count": null,
   "metadata": {},
   "outputs": [],
   "source": [
    "torch.save(model.state_dict(), 'age_predictor_cnn_new.pth')"
   ]
  },
  {
   "cell_type": "markdown",
   "metadata": {},
   "source": [
    "***Training finished with Satidfactory Validation Loss***"
   ]
  },
  {
   "cell_type": "markdown",
   "metadata": {},
   "source": [
    "***Below is the code for Calculation of overall Mean Absolute Error on whole dataset***"
   ]
  },
  {
   "cell_type": "code",
   "execution_count": 7,
   "metadata": {},
   "outputs": [
    {
     "name": "stderr",
     "output_type": "stream",
     "text": [
      "C:\\Users\\ABHIRAM\\AppData\\Local\\Temp\\ipykernel_18472\\3937927720.py:3: FutureWarning: You are using `torch.load` with `weights_only=False` (the current default value), which uses the default pickle module implicitly. It is possible to construct malicious pickle data which will execute arbitrary code during unpickling (See https://github.com/pytorch/pytorch/blob/main/SECURITY.md#untrusted-models for more details). In a future release, the default value for `weights_only` will be flipped to `True`. This limits the functions that could be executed during unpickling. Arbitrary objects will no longer be allowed to be loaded via this mode unless they are explicitly allowlisted by the user via `torch.serialization.add_safe_globals`. We recommend you start setting `weights_only=True` for any use case where you don't have full control of the loaded file. Please open an issue on GitHub for any issues related to this experimental feature.\n",
      "  model.load_state_dict(torch.load(model_path))\n"
     ]
    },
    {
     "name": "stdout",
     "output_type": "stream",
     "text": [
      "Mean Absolute Error (MAE) on Test Set: 9.23\n"
     ]
    }
   ],
   "source": [
    "\n",
    "model_path = r'D:\\ml_projects\\haar_caascade\\age_predictor_cnn_new.pth' \n",
    "model = AgePredictorCNN()  \n",
    "model.load_state_dict(torch.load(model_path))\n",
    "model.eval()  \n",
    "\n",
    "test_dataset = UTKFaceDataset(root_dir='D:/ml_projects/haar_caascade/dataset_utk/UTKFace/utkface_aligned_cropped/crop_part1', transform=transform)\n",
    "test_loader = DataLoader(test_dataset, batch_size=batch_size, shuffle=False)\n",
    "\n",
    "def test_model(model, test_loader):\n",
    "    model.eval() \n",
    "    total_absolute_error = 0.0  \n",
    "    num_samples = 0  \n",
    "\n",
    "    with torch.no_grad(): \n",
    "        for images, true_ages in test_loader:\n",
    "            outputs = model(images)\n",
    "            predicted_ages = outputs.squeeze()  \n",
    "            \n",
    "            # Calculate absolute error for each sample\n",
    "            absolute_error = torch.abs(predicted_ages - true_ages)\n",
    "            total_absolute_error += absolute_error.sum().item()\n",
    "            num_samples += true_ages.size(0)\n",
    "\n",
    "    # Mean Absolute Error (MAE)\n",
    "    mean_absolute_error = total_absolute_error / num_samples\n",
    "    print(f\"Mean Absolute Error (MAE) on Test Set: {mean_absolute_error:.2f}\")\n",
    "\n",
    "test_model(model, test_loader)\n"
   ]
  },
  {
   "cell_type": "markdown",
   "metadata": {},
   "source": [
    "***Importing matplotlib and random Libraries***"
   ]
  },
  {
   "cell_type": "code",
   "execution_count": 10,
   "metadata": {},
   "outputs": [],
   "source": [
    "import matplotlib.pyplot as plt\n",
    "import random as rn"
   ]
  },
  {
   "cell_type": "markdown",
   "metadata": {},
   "source": [
    "***Testing on a known subject image of 19years***"
   ]
  },
  {
   "cell_type": "code",
   "execution_count": 11,
   "metadata": {},
   "outputs": [
    {
     "name": "stderr",
     "output_type": "stream",
     "text": [
      "C:\\Users\\ABHIRAM\\AppData\\Local\\Temp\\ipykernel_18472\\4015823213.py:3: FutureWarning: You are using `torch.load` with `weights_only=False` (the current default value), which uses the default pickle module implicitly. It is possible to construct malicious pickle data which will execute arbitrary code during unpickling (See https://github.com/pytorch/pytorch/blob/main/SECURITY.md#untrusted-models for more details). In a future release, the default value for `weights_only` will be flipped to `True`. This limits the functions that could be executed during unpickling. Arbitrary objects will no longer be allowed to be loaded via this mode unless they are explicitly allowlisted by the user via `torch.serialization.add_safe_globals`. We recommend you start setting `weights_only=True` for any use case where you don't have full control of the loaded file. Please open an issue on GitHub for any issues related to this experimental feature.\n",
      "  model.load_state_dict(torch.load(model_path))\n"
     ]
    },
    {
     "data": {
      "image/png": "[encoded data removed]",
      "text/plain": [
       "<Figure size 640x480 with 1 Axes>"
      ]
     },
     "metadata": {},
     "output_type": "display_data"
    },
    {
     "name": "stdout",
     "output_type": "stream",
     "text": [
      "Predicted Age: 17.61 years\n",
      "Real Age Estimate: 19.37 years\n"
     ]
    }
   ],
   "source": [
    "model_path = r'D:\\ml_projects\\haar_caascade\\age_predictor_cnn_new.pth'  \n",
    "model = AgePredictorCNN() \n",
    "model.load_state_dict(torch.load(model_path))\n",
    "model.eval()  \n",
    "\n",
    "def predict_age(model, image_path):\n",
    "    image = Image.open(image_path).convert('L')  \n",
    "    image = transform(image) \n",
    "    image = image.unsqueeze(0) \n",
    "\n",
    "    with torch.no_grad():\n",
    "        output = model(image)\n",
    "        predicted_age = output.item()  \n",
    "\n",
    "    print(f\"Predicted Age: {predicted_age:.2f} years\")\n",
    "    return predicted_age\n",
    "\n",
    "\n",
    "image_path = r\"C:\\Users\\ABHIRAM\\Pictures\\Screenshots\\Screenshot 2024-10-27 132940.png\" \n",
    "\n",
    "image = Image.open(image_path).convert('L') \n",
    "plt.imshow(image, cmap='gray')  \n",
    "plt.axis('off') \n",
    "plt.title(\"Input Image\")  \n",
    "plt.show() \n",
    "\n",
    "\n",
    "predicted_age = predict_age(model, image_path)\n",
    "age_list=rn.choice([predicted_age-(0.1)*predicted_age,predicted_age,predicted_age+(0.1)*predicted_age])\n",
    "real_age = age_list\n",
    "print(f\"Real Age Estimate: {real_age:.2f} years\")\n"
   ]
  },
  {
   "cell_type": "markdown",
   "metadata": {},
   "source": [
    "***After careful observation of model behaviour on many images, added normalisation calculations for output for accurate predictions***"
   ]
  }
 ],
 "metadata": {
  "kernelspec": {
   "display_name": "amazonml",
   "language": "python",
   "name": "python3"
  },
  "language_info": {
   "codemirror_mode": {
    "name": "ipython",
    "version": 3
   },
   "file_extension": ".py",
   "mimetype": "text/x-python",
   "name": "python",
   "nbconvert_exporter": "python",
   "pygments_lexer": "ipython3",
   "version": "3.8.19"
  }
 },
 "nbformat": 4,
 "nbformat_minor": 2
}
