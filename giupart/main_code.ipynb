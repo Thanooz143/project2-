{
 "cells": [
  {
   "cell_type": "code",
   "execution_count": 1,
   "metadata": {},
   "outputs": [],
   "source": [
    "import cv2\n",
    "import torch\n",
    "import torchvision.transforms as transforms\n",
    "import torch.nn as nn\n",
    "import torch.nn.functional as F\n",
    "import numpy as np\n",
    "from PIL import Image"
   ]
  },
  {
   "cell_type": "code",
   "execution_count": 3,
   "metadata": {},
   "outputs": [],
   "source": [
    "class AgePredictorCNN(nn.Module):\n",
    "    def __init__(self):\n",
    "        super(AgePredictorCNN, self).__init__()\n",
    "        self.conv1 = nn.Conv2d(1, 16, kernel_size=3, padding=1)\n",
    "        self.pool = nn.MaxPool2d(kernel_size=2, stride=2)\n",
    "        self.dropout1 = nn.Dropout(0.25)\n",
    "        self.conv2 = nn.Conv2d(16, 32, kernel_size=3, padding=1)\n",
    "        self.dropout2 = nn.Dropout(0.25)\n",
    "        self.conv3 = nn.Conv2d(32, 64, kernel_size=3, padding=1)\n",
    "        self.dropout3 = nn.Dropout(0.25)\n",
    "        self.fc1 = nn.Linear(64 * 8 * 8, 128)\n",
    "        self.fc_dropout = nn.Dropout(0.5)\n",
    "        self.fc2 = nn.Linear(128, 1)\n",
    "\n",
    "    def forward(self, x):\n",
    "        x = self.pool(F.relu(self.conv1(x)))\n",
    "        x = self.dropout1(x)\n",
    "        x = self.pool(F.relu(self.conv2(x)))\n",
    "        x = self.dropout2(x)\n",
    "        x = self.pool(F.relu(self.conv3(x)))\n",
    "        x = self.dropout3(x)\n",
    "        x = x.view(-1, 64 * 8 * 8)\n",
    "        x = F.relu(self.fc1(x))\n",
    "        x = self.fc_dropout(x)\n",
    "        x = self.fc2(x)\n",
    "        return x\n"
   ]
  },
  {
   "cell_type": "code",
   "execution_count": 4,
   "metadata": {},
   "outputs": [
    {
     "name": "stderr",
     "output_type": "stream",
     "text": [
      "C:\\Users\\thano\\AppData\\Local\\Temp\\ipykernel_1612\\2443354828.py:3: FutureWarning: You are using `torch.load` with `weights_only=False` (the current default value), which uses the default pickle module implicitly. It is possible to construct malicious pickle data which will execute arbitrary code during unpickling (See https://github.com/pytorch/pytorch/blob/main/SECURITY.md#untrusted-models for more details). In a future release, the default value for `weights_only` will be flipped to `True`. This limits the functions that could be executed during unpickling. Arbitrary objects will no longer be allowed to be loaded via this mode unless they are explicitly allowlisted by the user via `torch.serialization.add_safe_globals`. We recommend you start setting `weights_only=True` for any use case where you don't have full control of the loaded file. Please open an issue on GitHub for any issues related to this experimental feature.\n",
      "  model.load_state_dict(torch.load(model_path))\n"
     ]
    },
    {
     "data": {
      "text/plain": [
       "AgePredictorCNN(\n",
       "  (conv1): Conv2d(1, 16, kernel_size=(3, 3), stride=(1, 1), padding=(1, 1))\n",
       "  (pool): MaxPool2d(kernel_size=2, stride=2, padding=0, dilation=1, ceil_mode=False)\n",
       "  (dropout1): Dropout(p=0.25, inplace=False)\n",
       "  (conv2): Conv2d(16, 32, kernel_size=(3, 3), stride=(1, 1), padding=(1, 1))\n",
       "  (dropout2): Dropout(p=0.25, inplace=False)\n",
       "  (conv3): Conv2d(32, 64, kernel_size=(3, 3), stride=(1, 1), padding=(1, 1))\n",
       "  (dropout3): Dropout(p=0.25, inplace=False)\n",
       "  (fc1): Linear(in_features=4096, out_features=128, bias=True)\n",
       "  (fc_dropout): Dropout(p=0.5, inplace=False)\n",
       "  (fc2): Linear(in_features=128, out_features=1, bias=True)\n",
       ")"
      ]
     },
     "execution_count": 4,
     "metadata": {},
     "output_type": "execute_result"
    }
   ],
   "source": [
    "model_path = r'C:\\Users\\thano\\Downloads\\project 2\\thanuj\\age_cnn\\age_predictor_cnn_new.pth'\n",
    "model = AgePredictorCNN()\n",
    "model.load_state_dict(torch.load(model_path))\n",
    "model.eval()"
   ]
  },
  {
   "cell_type": "code",
   "execution_count": 6,
   "metadata": {},
   "outputs": [],
   "source": [
    "face_cascade = cv2.CascadeClassifier('C:/Users/thano/Downloads/project 2/thanuj/face_and_eye_models\\haarcascade_frontalface_default.xml')\n",
    "eye_cascade = cv2.CascadeClassifier('C:/Users/thano/Downloads/project 2/thanuj/face_and_eye_models\\haarcascade_eye.xml')\n",
    "\n",
    "transform = transforms.Compose([\n",
    "    transforms.Resize((64, 64)),  \n",
    "    transforms.ToTensor(),\n",
    "    transforms.Normalize(mean=[0.5], std=[0.5])  \n",
    "])"
   ]
  },
  {
   "cell_type": "markdown",
   "metadata": {},
   "source": [
    "down code is almost perfect\n"
   ]
  },
  {
   "cell_type": "markdown",
   "metadata": {},
   "source": [
    "best code sofar!!!"
   ]
  },
  {
   "cell_type": "code",
   "execution_count": 7,
   "metadata": {},
   "outputs": [],
   "source": [
    "import cv2\n",
    "import numpy as np\n",
    "import torch\n",
    "from PIL import Image\n",
    "import time\n",
    "\n",
    "ages = []\n",
    "frame_count = 0\n",
    "max_observations = 19  \n",
    "drowsiness_count = 0   \n",
    "drowsiness_threshold = 5  \n",
    "\n",
    "cap = cv2.VideoCapture(0)\n",
    "\n",
    "while True:\n",
    "\n",
    "    ret, frame = cap.read()\n",
    "    if not ret:\n",
    "        break\n",
    "    gray = cv2.cvtColor(frame, cv2.COLOR_BGR2GRAY)\n",
    "    faces = face_cascade.detectMultiScale(gray, scaleFactor=1.2, minNeighbors=6, minSize=(30, 30))\n",
    "    frame_ages = []\n",
    "    for (x, y, w, h) in faces:\n",
    "        face_roi = gray[y + 10:y + h - 10, x + 25:x + w - 25]\n",
    "        face_pil = Image.fromarray(face_roi)  \n",
    "        \n",
    "        face_tensor = transform(face_pil).unsqueeze(0) \n",
    "        eyes = eye_cascade.detectMultiScale(face_roi, scaleFactor=1.2, minNeighbors=7, minSize=(30, 30))\n",
    "        if len(eyes) == 0:\n",
    "            drowsiness_count += 1 \n",
    "        else:\n",
    "            drowsiness_count = 0 \n",
    "\n",
    "        if drowsiness_count > drowsiness_threshold:\n",
    "            with torch.no_grad():\n",
    "                age_prediction = model(face_tensor)\n",
    "            age = int(age_prediction.item())\n",
    "            frame_ages.append(age)\n",
    "            ages.append(age)  \n",
    "            frame_count += 1\n",
    "            cv2.rectangle(frame, (x + 20, y), (x + w - 20, y + h + 10), (255, 0, 0), 2)\n",
    "            for (ex, ey, ew, eh) in eyes:\n",
    "                cv2.rectangle(frame, (x + ex + 20, y + ey), (x + ex + ew + 20, y + ey + eh), (0, 255, 0), 2)\n",
    "\n",
    "        else:\n",
    "            ages.clear()  \n",
    "            frame_count = 0  \n",
    "\n",
    "        time.sleep(0.01)\n",
    "    if frame_count >= max_observations:\n",
    "        average_age = 1.2 * np.median(ages)\n",
    "        if average_age >= 40:\n",
    "            average_age *= 1.3\n",
    "        for (x, y, w, h) in faces:\n",
    "            cv2.putText(frame, f\"Median Age: {average_age:.1f}\", (x + 15, y - 10), cv2.FONT_HERSHEY_SIMPLEX, 0.5, (255, 0, 0), 2)\n",
    "\n",
    "    cv2.imshow('Video - Face Detection and Age Prediction', frame)\n",
    "\n",
    "    if cv2.waitKey(1) & 0xFF == ord('q'):\n",
    "        break\n",
    "\n",
    "cap.release()\n",
    "cv2.destroyAllWindows()"
   ]
  },
  {
   "cell_type": "code",
   "execution_count": null,
   "metadata": {},
   "outputs": [],
   "source": []
  }
 ],
 "metadata": {
  "kernelspec": {
   "display_name": "Python 3 (ipykernel)",
   "language": "python",
   "name": "python3"
  },
  "language_info": {
   "codemirror_mode": {
    "name": "ipython",
    "version": 3
   },
   "file_extension": ".py",
   "mimetype": "text/x-python",
   "name": "python",
   "nbconvert_exporter": "python",
   "pygments_lexer": "ipython3",
   "version": "3.9.13"
  }
 },
 "nbformat": 4,
 "nbformat_minor": 2
}
